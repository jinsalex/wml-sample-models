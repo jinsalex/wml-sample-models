{
 "cells": [
  {
   "cell_type": "markdown",
   "metadata": {},
   "source": [
    "# Import a Spark MLlib model into IBM Watson Machine Learning\n",
    "\n",
    "Importing a model into Watson Machine Learning means to store a trained model in your Watson Machine Learning repository and then deploy the stored model.  This notebook demonstrates importing a Spark MLlib PipelineModel object.\n",
    "\n",
    "See also: <a href=\"https://dataplatform.cloud.ibm.com/docs/content/analyze-data/ml-import-spark-mllib.html\" target=\"_blank\" rel=\"noopener noreferrer\">Importing a Spark MLlib model</a>\n",
    "\n",
    "This notebook runs on Spark Python 3.5.\n",
    "\n",
    "\n",
    "### Notebook sections\n",
    "\n",
    "[Step 0: Build and train a model, and then save the model and training data](#step0)\n",
    "\n",
    "[Step 1: Store the model in your Watson Machine Learning repository](#step1)\n",
    "\n",
    "[Step 2: Deploy the stored model in your Watson Machine Learning service](#step2)\n"
   ]
  },
  {
   "cell_type": "markdown",
   "metadata": {},
   "source": [
    "## <a id=\"step0\"></a> Step 0: Build, train, and save a model\n",
    "\n",
    "**About the sample model**\n",
    "\n",
    "The sample model built here is a logistic regression model for predicting whether or not a customer will purchase a tent from a fictional outdoor equipment store, based on the customer charateristics.\n",
    "\n",
    "The data used to train the model is the \"GoSales.csv\" training data in the IBM Watson Studio community: <a href=\"https://dataplatform.cloud.ibm.com/exchange/public/entry/view/aa07a773f71cf1172a349f33e2028e4e\" target=\"_blank\" rel=\"noopener noreferrer\">GoSales sample data</a>."
   ]
  },
  {
   "cell_type": "markdown",
   "metadata": {},
   "source": [
    "### Get and prepare training data"
   ]
  },
  {
   "cell_type": "code",
   "execution_count": null,
   "metadata": {},
   "outputs": [],
   "source": [
    "!pip install wget # needed to download sample training data"
   ]
  },
  {
   "cell_type": "code",
   "execution_count": null,
   "metadata": {},
   "outputs": [],
   "source": [
    "# Download sample training data to notebook working directory\n",
    "import wget\n",
    "training_data_url = 'https://dataplatform.cloud.ibm.com/data/exchange-api/v1/entries/aa07a773f71cf1172a349f33e2028e4e/data?accessKey=e98b7315f84e5448aa94c633ca66ea83'\n",
    "filename = wget.download( training_data_url )\n",
    "print( filename )"
   ]
  },
  {
   "cell_type": "code",
   "execution_count": null,
   "metadata": {},
   "outputs": [],
   "source": [
    "# Read sample data into a Spark DataFrame\n",
    "from pyspark.sql import SparkSession\n",
    "spark = SparkSession.builder.getOrCreate()\n",
    "df = spark.read\\\n",
    "  .format('org.apache.spark.sql.execution.datasources.csv.CSVFileFormat')\\\n",
    "  .option('header', 'true')\\\n",
    "  .option('inferSchema', 'true')\\\n",
    "  .load( filename )\n",
    "df.printSchema()"
   ]
  },
  {
   "cell_type": "code",
   "execution_count": null,
   "metadata": {},
   "outputs": [],
   "source": [
    "# Select columns of interest\n",
    "from pyspark.sql.types import IntegerType\n",
    "training_data = df.select( \"GENDER\", \"AGE\", \"MARITAL_STATUS\", \"PROFESSION\", df.IS_TENT.cast( IntegerType() ) )\n",
    "training_data.printSchema()"
   ]
  },
  {
   "cell_type": "markdown",
   "metadata": {},
   "source": [
    "### Build a PipelineModel"
   ]
  },
  {
   "cell_type": "code",
   "execution_count": null,
   "metadata": {},
   "outputs": [],
   "source": [
    "# Create indexers for string columns\n",
    "from pyspark.ml.feature import StringIndexer\n",
    "indexer_GENDER         = StringIndexer( inputCol=\"GENDER\",         outputCol=\"GENDER_index\"         )\n",
    "indexer_MARITAL_STATUS = StringIndexer( inputCol=\"MARITAL_STATUS\", outputCol=\"MARITAL_STATUS_index\" )\n",
    "indexer_PROFESSION     = StringIndexer( inputCol=\"PROFESSION\",     outputCol=\"PROFESSION_index\"     )"
   ]
  },
  {
   "cell_type": "code",
   "execution_count": null,
   "metadata": {},
   "outputs": [],
   "source": [
    "# Create an assembler that generates the feature vector column\n",
    "from pyspark.ml.linalg import Vectors\n",
    "from pyspark.ml.feature import VectorAssembler\n",
    "feature_vector_assembler = VectorAssembler( inputCols=[ \"GENDER_index\", \"AGE\", \"MARITAL_STATUS_index\", \"PROFESSION_index\" ],  outputCol=\"features\" )"
   ]
  },
  {
   "cell_type": "code",
   "execution_count": null,
   "metadata": {},
   "outputs": [],
   "source": [
    "# Create a logistic regression model\n",
    "from pyspark.ml.classification import LogisticRegression\n",
    "lr = LogisticRegression( featuresCol='features', labelCol='IS_TENT' )"
   ]
  },
  {
   "cell_type": "code",
   "execution_count": null,
   "metadata": {},
   "outputs": [],
   "source": [
    "# Create a PipelineModel\n",
    "from pyspark.ml import Pipeline\n",
    "pipeline_org = Pipeline( stages=[ indexer_GENDER, indexer_MARITAL_STATUS, indexer_PROFESSION, feature_vector_assembler, lr ] )"
   ]
  },
  {
   "cell_type": "markdown",
   "metadata": {},
   "source": [
    "### Train and evaluate the model"
   ]
  },
  {
   "cell_type": "code",
   "execution_count": null,
   "metadata": {},
   "outputs": [],
   "source": [
    "# Split the training data into a training set and a test set\n",
    "train_org, test = training_data.randomSplit( [ 0.75, 0.25 ], seed = 2019 )\n",
    "print( \"Train count: \" + str( train_org.count() ) )\n",
    "print( \"Test count: \"  + str( test.count()  ) )"
   ]
  },
  {
   "cell_type": "code",
   "execution_count": null,
   "metadata": {},
   "outputs": [],
   "source": [
    "# Train the PipelineModel\n",
    "pipeline_model_org = pipeline_org.fit( train_org )"
   ]
  },
  {
   "cell_type": "code",
   "execution_count": null,
   "metadata": {},
   "outputs": [],
   "source": [
    "# Evaluate the model performance\n",
    "predictions_org = pipeline_model_org.transform( test )\n",
    "correct_false_org = predictions_org.filter( \"IS_TENT == 0 AND prediction == 0.0\" )\n",
    "correct_true_org = predictions_org.filter( \"IS_TENT == 1 AND prediction != 0.0\" )\n",
    "print( \"Success rate: \" + str( round( 100 * ( ( correct_false_org.count() + correct_true_org.count() ) / predictions_org.count() ) ) ) + \"%\" )"
   ]
  },
  {
   "cell_type": "markdown",
   "metadata": {},
   "source": [
    "### Save the training data, the Pipeline, and the PipelineModel\n",
    "\n",
    "To import your Spark MLlib PipeineModel into Watson Machine Learning, you need three things:\n",
    "- The training set (Spark DataFrame)\n",
    "- The PipelineModel object\n",
    "- The Pipeline object (which you can get from the PipelineModel object)\n",
    "\n",
    "In this section of the notebook, the training data and the PipelineModel object are saved to the notebook working directory."
   ]
  },
  {
   "cell_type": "code",
   "execution_count": null,
   "metadata": {},
   "outputs": [],
   "source": [
    "pipeline_model_org.save( \"tent-prediction-model\" )\n",
    "train_org.write.save( \"training-data.parquet\" )"
   ]
  },
  {
   "cell_type": "code",
   "execution_count": null,
   "metadata": {},
   "outputs": [],
   "source": [
    "# Just for interest, see what is in the directory\n",
    "print( \"tent-prediction-model:\" )\n",
    "!ls -l tent-prediction-model\n",
    "print( \"\\ntent-prediction-model/metadata:\" )\n",
    "!ls -l tent-prediction-model/metadata\n",
    "print( \"\\ntent-prediction-model/stages:\" )\n",
    "!ls -l tent-prediction-model/stages"
   ]
  },
  {
   "cell_type": "markdown",
   "metadata": {},
   "source": [
    "## <a id=\"step1\"></a> Step 1: Store the model in your Watson Machine Learning repository\n",
    "\n",
    "This section of the notebook demonstrates calling the <a href=\"https://wml-api-pyclient.mybluemix.net/index.html?highlight=store_model#client.Repository.store_model\" target=\"_blank\" rel=\"noopener noreferrer\">store_model</a> function, passing the in-memory PipelineMoel object."
   ]
  },
  {
   "cell_type": "code",
   "execution_count": null,
   "metadata": {},
   "outputs": [],
   "source": [
    "# Load the model into memory\n",
    "from pyspark.ml import PipelineModel\n",
    "pipeline_model = PipelineModel.load( \"tent-prediction-model\" )\n",
    "pipeline = Pipeline( stages = pipeline_model_org.stages )\n",
    "train = spark.read.load( \"training-data.parquet\" )"
   ]
  },
  {
   "cell_type": "code",
   "execution_count": null,
   "metadata": {},
   "outputs": [],
   "source": [
    "!pip install watson_machine_learning_client # Needed to work with the Watson Machine Learning Python client"
   ]
  },
  {
   "cell_type": "markdown",
   "metadata": {},
   "source": [
    "Paste your Watson Machine Learning credentials in the following cell.\n",
    "\n",
    "See: <a href=\"https://dataplatform.cloud.ibm.com/docs/content/analyze-data/ml-get-wml-credentials.html\" target=\"_blank\" rel=\"noopener noreferrer\">Looking up credentials</a>"
   ]
  },
  {
   "cell_type": "code",
   "execution_count": null,
   "metadata": {},
   "outputs": [],
   "source": [
    "# Create a Watson Machine Learning client instance\n",
    "from watson_machine_learning_client import WatsonMachineLearningAPIClient\n",
    "wml_credentials = {\n",
    "    \"apikey\"    : \"value\",\n",
    "    \"instance_id\" : \"instance_id\",\n",
    "    \"url\"    : \"url\"\n",
    "}\n",
    "client = WatsonMachineLearningAPIClient( wml_credentials )"
   ]
  },
  {
   "cell_type": "code",
   "execution_count": null,
   "metadata": {},
   "outputs": [],
   "source": [
    "# Store the PipelineModel in the Watson Machine Learning repository\n",
    "model_details = client.repository.store_model( pipeline_model, 'Spark MLlib model', training_data=train, pipeline=pipeline )"
   ]
  },
  {
   "cell_type": "markdown",
   "metadata": {},
   "source": [
    "## <a id=\"step2\"></a> Step 2: Deploy the stored model in your Watson Machine Learning service"
   ]
  },
  {
   "cell_type": "code",
   "execution_count": null,
   "metadata": {},
   "outputs": [],
   "source": [
    "# Deploy the stored model as an online web service deployment\n",
    "model_id = model_details[\"metadata\"][\"guid\"]\n",
    "deployment_details = client.deployments.create( artifact_uid=model_id, name=\"Spark MLlib model deployment\" )"
   ]
  },
  {
   "cell_type": "code",
   "execution_count": null,
   "metadata": {},
   "outputs": [],
   "source": [
    "# Test the deployment\n",
    "model_endpoint_url = client.deployments.get_scoring_url( deployment_details )\n",
    "payload = { \"fields\" : [ \"GENDER\", \"AGE\", \"MARITAL_STATUS\", \"PROFESSION\" ], \"values\" : [ [ \"M\", 27, \"Single\", \"Professional\" ] ] }\n",
    "client.deployments.score( model_endpoint_url, payload )"
   ]
  },
  {
   "cell_type": "code",
   "execution_count": null,
   "metadata": {},
   "outputs": [],
   "source": [
    "# Testing the model locally gets the same results\n",
    "test_df = spark.createDataFrame( [ ( \"M\", 27, \"Single\", \"Professional\" ) ], [ \"GENDER\", \"AGE\", \"MARITAL_STATUS\", \"PROFESSION\" ] )\n",
    "pipeline_model.transform( test_df ).show()"
   ]
  },
  {
   "cell_type": "code",
   "execution_count": null,
   "metadata": {},
   "outputs": [],
   "source": []
  },
  {
   "cell_type": "markdown",
   "metadata": {},
   "source": [
    "## Summary\n",
    "In this notebook, you imported a Spark MLlib PipelineModel into Watson Machine Learning using the Watson Machine Learning Python client."
   ]
  },
  {
   "cell_type": "markdown",
   "metadata": {},
   "source": [
    "### <a id=\"authors\"></a>Authors\n",
    "\n",
    "**Sarah Packowski** is a member of the IBM Watson Studio Content Design team in Canada."
   ]
  },
  {
   "cell_type": "markdown",
   "metadata": {},
   "source": [
    "\n",
    "<hr>\n",
    "Copyright &copy; IBM Corp. 2019. This notebook and its source code are released under the terms of the MIT License."
   ]
  },
  {
   "cell_type": "markdown",
   "metadata": {},
   "source": [
    "<div style=\"background:#F5F7FA; height:110px; padding: 2em; font-size:14px;\">\n",
    "<span style=\"font-size:18px;color:#152935;\">Love this notebook? </span>\n",
    "<span style=\"font-size:15px;color:#152935;float:right;margin-right:40px;\">Don't have an account yet?</span><br>\n",
    "<span style=\"color:#5A6872;\">Share it with your colleagues and help them discover the power of Watson Studio!</span>\n",
    "<span style=\"border: 1px solid #3d70b2;padding:8px;float:right;margin-right:40px; color:#3d70b2;\"><a href=\"https://ibm.co/wsnotebooks\" target=\"_blank\" style=\"color: #3d70b2;text-decoration: none;\">Sign Up</a></span><br>\n",
    "</div>"
   ]
  }
 ],
 "metadata": {
  "kernelspec": {
   "display_name": "Python 3",
   "language": "python",
   "name": "python3"
  },
  "language_info": {
   "codemirror_mode": {
    "name": "ipython",
    "version": 3
   },
   "file_extension": ".py",
   "mimetype": "text/x-python",
   "name": "python",
   "nbconvert_exporter": "python",
   "pygments_lexer": "ipython3",
   "version": "3.6.4"
  }
 },
 "nbformat": 4,
 "nbformat_minor": 1
}
