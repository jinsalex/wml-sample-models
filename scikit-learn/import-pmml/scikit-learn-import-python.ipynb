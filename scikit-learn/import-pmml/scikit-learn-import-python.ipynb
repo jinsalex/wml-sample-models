{
 "cells": [
  {
   "cell_type": "markdown",
   "metadata": {
    "collapsed": true
   },
   "source": [
    "# Import a scikit-learn model into IBM Watson Machine Learning\n",
    "\n",
    "Importing a model into Watson Machine Learning means to store a trained model in your Watson Machine Learning repository and then deploy the stored model.  This notebook demonstrates importing a scikit-learn Pipeline object.\n",
    "\n",
    "See also: <a href=\"https://dataplatform.cloud.ibm.com/docs/content/analyze-data/ml-import-scikit-learn.html\" target=\"_blank\" rel=\"noopener noreferrer\">Importing a scikit-learn model</a>\n",
    "\n",
    "This notebook runs on Spark Python 3.5.\n",
    "\n",
    "\n",
    "### Notebook sections\n",
    "\n",
    "[Step 0: Build, train, and save a model](#step0)\n",
    "\n",
    "[Step 1: Store the model in your Watson Machine Learning repository](#step1)\n",
    "\n",
    "[Step 2: Deploy the stored modelin your Watson Machine Learning service](#step2)"
   ]
  },
  {
   "cell_type": "markdown",
   "metadata": {},
   "source": [
    "## <a id=\"step0\"></a> Step 0: Build, train, and save a model\n",
    "\n",
    "**About the sample model**\n",
    "\n",
    "The sample model built here is a logistic regression model for predicting whether or not a customer will purchase a tent from a fictional outdoor equipment store, based on the customer charateristics.\n",
    "\n",
    "The data used to train the model is the \"GoSales.csv\" training data in the IBM Watson Studio community: <a href=\"https://dataplatform.cloud.ibm.com/exchange/public/entry/view/aa07a773f71cf1172a349f33e2028e4e\" target=\"_blank\" rel=\"noopener noreferrer\">GoSales sample data</a>."
   ]
  },
  {
   "cell_type": "markdown",
   "metadata": {},
   "source": [
    "### Get and prepare training data"
   ]
  },
  {
   "cell_type": "code",
   "execution_count": 1,
   "metadata": {},
   "outputs": [
    {
     "name": "stdout",
     "output_type": "stream",
     "text": [
      "Requirement already satisfied: wget in /Users/jinsalex/anaconda3/lib/python3.6/site-packages\n",
      "\u001b[33mYou are using pip version 9.0.1, however version 19.1.1 is available.\n",
      "You should consider upgrading via the 'pip install --upgrade pip' command.\u001b[0m\n"
     ]
    }
   ],
   "source": [
    "!pip install wget # Needed to download sample training data"
   ]
  },
  {
   "cell_type": "code",
   "execution_count": 2,
   "metadata": {},
   "outputs": [
    {
     "name": "stdout",
     "output_type": "stream",
     "text": [
      "GoSales (1).csv\n"
     ]
    }
   ],
   "source": [
    "# Download sample training data to notebook working directory\n",
    "import wget\n",
    "training_data_url = 'https://dataplatform.cloud.ibm.com/data/exchange-api/v1/entries/aa07a773f71cf1172a349f33e2028e4e/data?accessKey=e98b7315f84e5448aa94c633ca66ea83'\n",
    "filename = wget.download( training_data_url )\n",
    "print( filename )"
   ]
  },
  {
   "cell_type": "code",
   "execution_count": 3,
   "metadata": {},
   "outputs": [
    {
     "data": {
      "text/html": [
       "<div>\n",
       "<style scoped>\n",
       "    .dataframe tbody tr th:only-of-type {\n",
       "        vertical-align: middle;\n",
       "    }\n",
       "\n",
       "    .dataframe tbody tr th {\n",
       "        vertical-align: top;\n",
       "    }\n",
       "\n",
       "    .dataframe thead th {\n",
       "        text-align: right;\n",
       "    }\n",
       "</style>\n",
       "<table border=\"1\" class=\"dataframe\">\n",
       "  <thead>\n",
       "    <tr style=\"text-align: right;\">\n",
       "      <th></th>\n",
       "      <th>GENDER</th>\n",
       "      <th>AGE</th>\n",
       "      <th>MARITAL_STATUS</th>\n",
       "      <th>PROFESSION</th>\n",
       "      <th>IS_TENT</th>\n",
       "      <th>PRODUCT_LINE</th>\n",
       "      <th>PURCHASE_AMOUNT</th>\n",
       "    </tr>\n",
       "  </thead>\n",
       "  <tbody>\n",
       "    <tr>\n",
       "      <th>0</th>\n",
       "      <td>M</td>\n",
       "      <td>27</td>\n",
       "      <td>Single</td>\n",
       "      <td>Professional</td>\n",
       "      <td>True</td>\n",
       "      <td>Camping Equipment</td>\n",
       "      <td>144.78</td>\n",
       "    </tr>\n",
       "    <tr>\n",
       "      <th>1</th>\n",
       "      <td>F</td>\n",
       "      <td>39</td>\n",
       "      <td>Married</td>\n",
       "      <td>Other</td>\n",
       "      <td>False</td>\n",
       "      <td>Outdoor Protection</td>\n",
       "      <td>144.83</td>\n",
       "    </tr>\n",
       "    <tr>\n",
       "      <th>2</th>\n",
       "      <td>F</td>\n",
       "      <td>39</td>\n",
       "      <td>Married</td>\n",
       "      <td>Other</td>\n",
       "      <td>False</td>\n",
       "      <td>Outdoor Protection</td>\n",
       "      <td>137.37</td>\n",
       "    </tr>\n",
       "    <tr>\n",
       "      <th>3</th>\n",
       "      <td>F</td>\n",
       "      <td>56</td>\n",
       "      <td>Unspecified</td>\n",
       "      <td>Hospitality</td>\n",
       "      <td>False</td>\n",
       "      <td>Personal Accessories</td>\n",
       "      <td>92.61</td>\n",
       "    </tr>\n",
       "    <tr>\n",
       "      <th>4</th>\n",
       "      <td>M</td>\n",
       "      <td>45</td>\n",
       "      <td>Married</td>\n",
       "      <td>Retired</td>\n",
       "      <td>False</td>\n",
       "      <td>Golf Equipment</td>\n",
       "      <td>119.04</td>\n",
       "    </tr>\n",
       "  </tbody>\n",
       "</table>\n",
       "</div>"
      ],
      "text/plain": [
       "  GENDER  AGE MARITAL_STATUS    PROFESSION  IS_TENT          PRODUCT_LINE  \\\n",
       "0      M   27         Single  Professional     True     Camping Equipment   \n",
       "1      F   39        Married         Other    False    Outdoor Protection   \n",
       "2      F   39        Married         Other    False    Outdoor Protection   \n",
       "3      F   56    Unspecified   Hospitality    False  Personal Accessories   \n",
       "4      M   45        Married       Retired    False        Golf Equipment   \n",
       "\n",
       "   PURCHASE_AMOUNT  \n",
       "0           144.78  \n",
       "1           144.83  \n",
       "2           137.37  \n",
       "3            92.61  \n",
       "4           119.04  "
      ]
     },
     "execution_count": 3,
     "metadata": {},
     "output_type": "execute_result"
    }
   ],
   "source": [
    "# Read sample data into a pandas DataFrame\n",
    "import pandas as pd\n",
    "df = pd.read_csv( filename )\n",
    "df[0:5]"
   ]
  },
  {
   "cell_type": "code",
   "execution_count": 4,
   "metadata": {},
   "outputs": [
    {
     "name": "stdout",
     "output_type": "stream",
     "text": [
      "  GENDER  AGE MARITAL_STATUS    PROFESSION  IS_TENT\n",
      "0      M   27         Single  Professional     True\n",
      "1      F   39        Married         Other    False\n",
      "2      F   39        Married         Other    False\n",
      "3      F   56    Unspecified   Hospitality    False\n",
      "4      M   45        Married       Retired    False\n"
     ]
    }
   ],
   "source": [
    "# Select columns of interest\n",
    "training_data = df[[\"GENDER\",\"AGE\",\"MARITAL_STATUS\",\"PROFESSION\",\"IS_TENT\"]].copy()\n",
    "print( training_data[0:5] )"
   ]
  },
  {
   "cell_type": "code",
   "execution_count": 5,
   "metadata": {},
   "outputs": [
    {
     "name": "stdout",
     "output_type": "stream",
     "text": [
      "le_GENDER:\n",
      "[[0 'F']\n",
      " [1 'M']]\n",
      "\n",
      "le_MARITAL_STATUS:\n",
      "[[0 'Married']\n",
      " [1 'Single']\n",
      " [2 'Unspecified']]\n",
      "\n",
      "le_PROFESSION:\n",
      "[[0 'Executive']\n",
      " [1 'Hospitality']\n",
      " [2 'Other']\n",
      " [3 'Professional']\n",
      " [4 'Retail']\n",
      " [5 'Retired']\n",
      " [6 'Sales']\n",
      " [7 'Student']\n",
      " [8 'Trades']]\n"
     ]
    }
   ],
   "source": [
    "# Create label encoders for string columns\n",
    "from sklearn.preprocessing import LabelEncoder\n",
    "import numpy as np\n",
    "le_GENDER = LabelEncoder().fit( training_data[\"GENDER\"] )\n",
    "le_MARITAL_STATUS = LabelEncoder().fit( training_data[\"MARITAL_STATUS\"] )\n",
    "le_PROFESSION = LabelEncoder().fit( training_data[\"PROFESSION\"] )\n",
    "\n",
    "print( \"le_GENDER:\" )\n",
    "print( np.sort( np.array( [ le_GENDER.transform(le_GENDER.classes_), le_GENDER.classes_ ] ).T, axis=0 ) )\n",
    "print( \"\\nle_MARITAL_STATUS:\" )\n",
    "print( np.sort( np.array( [ le_MARITAL_STATUS.transform(le_MARITAL_STATUS.classes_), le_MARITAL_STATUS.classes_ ] ).T, axis=0 ) )\n",
    "print( \"\\nle_PROFESSION:\" )\n",
    "print( np.sort( np.array( [ le_PROFESSION.transform(le_PROFESSION.classes_), le_PROFESSION.classes_ ] ).T, axis=0 ) )"
   ]
  },
  {
   "cell_type": "code",
   "execution_count": 6,
   "metadata": {},
   "outputs": [
    {
     "data": {
      "text/html": [
       "<div>\n",
       "<style scoped>\n",
       "    .dataframe tbody tr th:only-of-type {\n",
       "        vertical-align: middle;\n",
       "    }\n",
       "\n",
       "    .dataframe tbody tr th {\n",
       "        vertical-align: top;\n",
       "    }\n",
       "\n",
       "    .dataframe thead th {\n",
       "        text-align: right;\n",
       "    }\n",
       "</style>\n",
       "<table border=\"1\" class=\"dataframe\">\n",
       "  <thead>\n",
       "    <tr style=\"text-align: right;\">\n",
       "      <th></th>\n",
       "      <th>GENDER</th>\n",
       "      <th>AGE</th>\n",
       "      <th>MARITAL_STATUS</th>\n",
       "      <th>PROFESSION</th>\n",
       "      <th>IS_TENT</th>\n",
       "      <th>GENDER_index</th>\n",
       "      <th>MARITAL_STATUS_index</th>\n",
       "      <th>PROFESSION_index</th>\n",
       "    </tr>\n",
       "  </thead>\n",
       "  <tbody>\n",
       "    <tr>\n",
       "      <th>0</th>\n",
       "      <td>M</td>\n",
       "      <td>27</td>\n",
       "      <td>Single</td>\n",
       "      <td>Professional</td>\n",
       "      <td>True</td>\n",
       "      <td>1</td>\n",
       "      <td>1</td>\n",
       "      <td>3</td>\n",
       "    </tr>\n",
       "    <tr>\n",
       "      <th>1</th>\n",
       "      <td>F</td>\n",
       "      <td>39</td>\n",
       "      <td>Married</td>\n",
       "      <td>Other</td>\n",
       "      <td>False</td>\n",
       "      <td>0</td>\n",
       "      <td>0</td>\n",
       "      <td>2</td>\n",
       "    </tr>\n",
       "    <tr>\n",
       "      <th>2</th>\n",
       "      <td>F</td>\n",
       "      <td>39</td>\n",
       "      <td>Married</td>\n",
       "      <td>Other</td>\n",
       "      <td>False</td>\n",
       "      <td>0</td>\n",
       "      <td>0</td>\n",
       "      <td>2</td>\n",
       "    </tr>\n",
       "    <tr>\n",
       "      <th>3</th>\n",
       "      <td>F</td>\n",
       "      <td>56</td>\n",
       "      <td>Unspecified</td>\n",
       "      <td>Hospitality</td>\n",
       "      <td>False</td>\n",
       "      <td>0</td>\n",
       "      <td>2</td>\n",
       "      <td>1</td>\n",
       "    </tr>\n",
       "    <tr>\n",
       "      <th>4</th>\n",
       "      <td>M</td>\n",
       "      <td>45</td>\n",
       "      <td>Married</td>\n",
       "      <td>Retired</td>\n",
       "      <td>False</td>\n",
       "      <td>1</td>\n",
       "      <td>0</td>\n",
       "      <td>5</td>\n",
       "    </tr>\n",
       "  </tbody>\n",
       "</table>\n",
       "</div>"
      ],
      "text/plain": [
       "  GENDER  AGE MARITAL_STATUS    PROFESSION  IS_TENT  GENDER_index  \\\n",
       "0      M   27         Single  Professional     True             1   \n",
       "1      F   39        Married         Other    False             0   \n",
       "2      F   39        Married         Other    False             0   \n",
       "3      F   56    Unspecified   Hospitality    False             0   \n",
       "4      M   45        Married       Retired    False             1   \n",
       "\n",
       "   MARITAL_STATUS_index  PROFESSION_index  \n",
       "0                     1                 3  \n",
       "1                     0                 2  \n",
       "2                     0                 2  \n",
       "3                     2                 1  \n",
       "4                     0                 5  "
      ]
     },
     "execution_count": 6,
     "metadata": {},
     "output_type": "execute_result"
    }
   ],
   "source": [
    "# Create encoded colums in the training data\n",
    "training_data[\"GENDER_index\"] = le_GENDER.transform( training_data[\"GENDER\"] )\n",
    "training_data[\"MARITAL_STATUS_index\"] = le_MARITAL_STATUS.transform( training_data[\"MARITAL_STATUS\"] )\n",
    "training_data[\"PROFESSION_index\"] = le_PROFESSION.transform( training_data[\"PROFESSION\"] )\n",
    "training_data[0:5]"
   ]
  },
  {
   "cell_type": "markdown",
   "metadata": {},
   "source": [
    "### Build a Pipeline"
   ]
  },
  {
   "cell_type": "code",
   "execution_count": 7,
   "metadata": {},
   "outputs": [],
   "source": [
    "# Create a simple Pipeline\n",
    "from sklearn.pipeline import Pipeline\n",
    "from sklearn.linear_model import LogisticRegression\n",
    "pipeline = Pipeline( steps = [ ( \"classifier\", LogisticRegression() ) ] )"
   ]
  },
  {
   "cell_type": "markdown",
   "metadata": {},
   "source": [
    "### Train and evaluate the model"
   ]
  },
  {
   "cell_type": "code",
   "execution_count": 8,
   "metadata": {},
   "outputs": [],
   "source": [
    "# Split the training data into a training set and a test set\n",
    "from sklearn.model_selection import train_test_split\n",
    "X_train, X_test, y_train, y_test = train_test_split( training_data[[ \"AGE\", \"GENDER_index\", \"MARITAL_STATUS_index\", \"PROFESSION_index\" ]], training_data[\"IS_TENT\"] )"
   ]
  },
  {
   "cell_type": "code",
   "execution_count": 9,
   "metadata": {},
   "outputs": [
    {
     "data": {
      "text/plain": [
       "Pipeline(memory=None,\n",
       "     steps=[('classifier', LogisticRegression(C=1.0, class_weight=None, dual=False, fit_intercept=True,\n",
       "          intercept_scaling=1, max_iter=100, multi_class='ovr', n_jobs=1,\n",
       "          penalty='l2', random_state=None, solver='liblinear', tol=0.0001,\n",
       "          verbose=0, warm_start=False))])"
      ]
     },
     "execution_count": 9,
     "metadata": {},
     "output_type": "execute_result"
    }
   ],
   "source": [
    "# Train the model\n",
    "pipeline.fit( X_train, y_train )"
   ]
  },
  {
   "cell_type": "code",
   "execution_count": 10,
   "metadata": {},
   "outputs": [
    {
     "name": "stdout",
     "output_type": "stream",
     "text": [
      "Success rate: 86.0%\n"
     ]
    }
   ],
   "source": [
    "# Evaluate the model performance\n",
    "predictions = pipeline.predict( X_test )\n",
    "num_correct = ( ( predictions == y_test.values ) == True ).sum()\n",
    "print( \"Success rate: \" + str( round( 100 * ( num_correct / len( predictions ) ) ) ) + \"%\" )"
   ]
  },
  {
   "cell_type": "code",
   "execution_count": 11,
   "metadata": {},
   "outputs": [
    {
     "data": {
      "text/html": [
       "<div>\n",
       "<style scoped>\n",
       "    .dataframe tbody tr th:only-of-type {\n",
       "        vertical-align: middle;\n",
       "    }\n",
       "\n",
       "    .dataframe tbody tr th {\n",
       "        vertical-align: top;\n",
       "    }\n",
       "\n",
       "    .dataframe thead th {\n",
       "        text-align: right;\n",
       "    }\n",
       "</style>\n",
       "<table border=\"1\" class=\"dataframe\">\n",
       "  <thead>\n",
       "    <tr style=\"text-align: right;\">\n",
       "      <th></th>\n",
       "      <th>GENDER</th>\n",
       "      <th>AGE</th>\n",
       "      <th>MARITAL_STATUS</th>\n",
       "      <th>PROFESSION</th>\n",
       "      <th>IS_TENT</th>\n",
       "      <th>PRODUCT_LINE</th>\n",
       "      <th>PURCHASE_AMOUNT</th>\n",
       "    </tr>\n",
       "  </thead>\n",
       "  <tbody>\n",
       "    <tr>\n",
       "      <th>13</th>\n",
       "      <td>F</td>\n",
       "      <td>35</td>\n",
       "      <td>Married</td>\n",
       "      <td>Professional</td>\n",
       "      <td>False</td>\n",
       "      <td>Golf Equipment</td>\n",
       "      <td>152.95</td>\n",
       "    </tr>\n",
       "    <tr>\n",
       "      <th>14</th>\n",
       "      <td>M</td>\n",
       "      <td>20</td>\n",
       "      <td>Single</td>\n",
       "      <td>Sales</td>\n",
       "      <td>True</td>\n",
       "      <td>Mountaineering Equipment</td>\n",
       "      <td>124.66</td>\n",
       "    </tr>\n",
       "  </tbody>\n",
       "</table>\n",
       "</div>"
      ],
      "text/plain": [
       "   GENDER  AGE MARITAL_STATUS    PROFESSION  IS_TENT  \\\n",
       "13      F   35        Married  Professional    False   \n",
       "14      M   20         Single         Sales     True   \n",
       "\n",
       "                PRODUCT_LINE  PURCHASE_AMOUNT  \n",
       "13            Golf Equipment           152.95  \n",
       "14  Mountaineering Equipment           124.66  "
      ]
     },
     "execution_count": 11,
     "metadata": {},
     "output_type": "execute_result"
    }
   ],
   "source": [
    "# Grab some example data for quick test\n",
    "df[13:15]"
   ]
  },
  {
   "cell_type": "code",
   "execution_count": 12,
   "metadata": {},
   "outputs": [
    {
     "name": "stdout",
     "output_type": "stream",
     "text": [
      "negative_example: [35, 0, 0, 3]\n"
     ]
    }
   ],
   "source": [
    "negative_example_payload = [ 35, le_GENDER.transform( [\"F\"] )[0], le_MARITAL_STATUS.transform( [\"Married\"] )[0], le_PROFESSION.transform( [\"Professional\"] )[0] ]\n",
    "print( \"negative_example: \" + str( negative_example_payload ) )"
   ]
  },
  {
   "cell_type": "code",
   "execution_count": 13,
   "metadata": {},
   "outputs": [
    {
     "name": "stdout",
     "output_type": "stream",
     "text": [
      "positive_example: [20, 1, 1, 6]\n"
     ]
    }
   ],
   "source": [
    "positive_example_payload = [ 20, le_GENDER.transform( [\"M\"] )[0], le_MARITAL_STATUS.transform( [\"Single\"] )[0], le_PROFESSION.transform( [\"Sales\"] )[0] ]\n",
    "print( \"positive_example: \" + str( positive_example_payload ) )"
   ]
  },
  {
   "cell_type": "code",
   "execution_count": 14,
   "metadata": {},
   "outputs": [
    {
     "data": {
      "text/plain": [
       "array([False])"
      ]
     },
     "execution_count": 14,
     "metadata": {},
     "output_type": "execute_result"
    }
   ],
   "source": [
    "pipeline.predict( [ negative_example_payload ] )"
   ]
  },
  {
   "cell_type": "code",
   "execution_count": 15,
   "metadata": {},
   "outputs": [
    {
     "data": {
      "text/plain": [
       "array([ True])"
      ]
     },
     "execution_count": 15,
     "metadata": {},
     "output_type": "execute_result"
    }
   ],
   "source": [
    "pipeline.predict( [ positive_example_payload ] )"
   ]
  },
  {
   "cell_type": "markdown",
   "metadata": {},
   "source": [
    "### Save the Pipeline\n",
    "\n",
    "You can import your scikit-learn Pipeline into Watson Machine Learning in any of the following formats:\n",
    "- In-memory Pipeline object\n",
    "- Pipeline saved in a pickle file\n",
    "- Pipeline saved in a pickle file in a tar.gz file\n",
    "\n",
    "In this section of the notebook, the Pipeline object is saved to a pickle file and a tar.gz file to demonstrate all options."
   ]
  },
  {
   "cell_type": "code",
   "execution_count": 16,
   "metadata": {},
   "outputs": [],
   "source": [
    "import pickle\n",
    "pickle.dump( pipeline, open( \"tent-prediction-model.pkl\", 'wb') )"
   ]
  },
  {
   "cell_type": "code",
   "execution_count": 17,
   "metadata": {},
   "outputs": [
    {
     "name": "stdout",
     "output_type": "stream",
     "text": [
      "mkdir: model-dir: File exists\r\n"
     ]
    }
   ],
   "source": [
    "!mkdir model-dir\n",
    "!cp tent-prediction-model.pkl model-dir"
   ]
  },
  {
   "cell_type": "code",
   "execution_count": 18,
   "metadata": {},
   "outputs": [
    {
     "name": "stdout",
     "output_type": "stream",
     "text": [
      "a tent-prediction-model.pkl\r\n"
     ]
    }
   ],
   "source": [
    "!tar -zcvf tent-prediction-model.tar.gz tent-prediction-model.pkl"
   ]
  },
  {
   "cell_type": "markdown",
   "metadata": {},
   "source": [
    "## <a id=\"step1\"></a> Step 1: Store the model in your Watson Machine Learning repository"
   ]
  },
  {
   "cell_type": "markdown",
   "metadata": {},
   "source": [
    "### Format options\n",
    "\n",
    "This section of the notebook demonstrates calling the <a href=\"https://wml-api-pyclient.mybluemix.net/index.html?highlight=store_model#client.Repository.store_model\" target=\"_blank\" rel=\"noopener noreferrer\">store_model</a> function, passing the model in three formats:\n",
    "- Format 1: In-memory Pipeline object\n",
    "- Format 2: Pipeline saved in a pickle file\n",
    "- Format 3: Pipeline saved in a pickle file in a tar.gz file"
   ]
  },
  {
   "cell_type": "code",
   "execution_count": 19,
   "metadata": {},
   "outputs": [
    {
     "name": "stdout",
     "output_type": "stream",
     "text": [
      "Requirement already satisfied: watson_machine_learning_client in /Users/jinsalex/anaconda3/lib/python3.6/site-packages\n",
      "Requirement already satisfied: lomond in /Users/jinsalex/anaconda3/lib/python3.6/site-packages (from watson_machine_learning_client)\n",
      "Requirement already satisfied: pandas in /Users/jinsalex/anaconda3/lib/python3.6/site-packages (from watson_machine_learning_client)\n",
      "Requirement already satisfied: urllib3 in /Users/jinsalex/anaconda3/lib/python3.6/site-packages (from watson_machine_learning_client)\n",
      "Requirement already satisfied: requests in /Users/jinsalex/anaconda3/lib/python3.6/site-packages (from watson_machine_learning_client)\n",
      "Requirement already satisfied: ibm-cos-sdk in /Users/jinsalex/anaconda3/lib/python3.6/site-packages (from watson_machine_learning_client)\n",
      "Requirement already satisfied: tabulate in /Users/jinsalex/anaconda3/lib/python3.6/site-packages (from watson_machine_learning_client)\n",
      "Requirement already satisfied: tqdm in /Users/jinsalex/anaconda3/lib/python3.6/site-packages (from watson_machine_learning_client)\n",
      "Requirement already satisfied: certifi in /Users/jinsalex/anaconda3/lib/python3.6/site-packages (from watson_machine_learning_client)\n",
      "Requirement already satisfied: six>=1.10.0 in /Users/jinsalex/anaconda3/lib/python3.6/site-packages (from lomond->watson_machine_learning_client)\n",
      "Requirement already satisfied: numpy>=1.12.0 in /Users/jinsalex/anaconda3/lib/python3.6/site-packages (from pandas->watson_machine_learning_client)\n",
      "Requirement already satisfied: pytz>=2011k in /Users/jinsalex/anaconda3/lib/python3.6/site-packages (from pandas->watson_machine_learning_client)\n",
      "Requirement already satisfied: python-dateutil>=2.5.0 in /Users/jinsalex/anaconda3/lib/python3.6/site-packages (from pandas->watson_machine_learning_client)\n",
      "Requirement already satisfied: idna<2.9,>=2.5 in /Users/jinsalex/anaconda3/lib/python3.6/site-packages (from requests->watson_machine_learning_client)\n",
      "Requirement already satisfied: chardet<3.1.0,>=3.0.2 in /Users/jinsalex/anaconda3/lib/python3.6/site-packages (from requests->watson_machine_learning_client)\n",
      "Requirement already satisfied: ibm-cos-sdk-core==2.*,>=2.0.0 in /Users/jinsalex/anaconda3/lib/python3.6/site-packages (from ibm-cos-sdk->watson_machine_learning_client)\n",
      "Requirement already satisfied: ibm-cos-sdk-s3transfer==2.*,>=2.0.0 in /Users/jinsalex/anaconda3/lib/python3.6/site-packages (from ibm-cos-sdk->watson_machine_learning_client)\n",
      "Requirement already satisfied: docutils>=0.10 in /Users/jinsalex/anaconda3/lib/python3.6/site-packages (from ibm-cos-sdk-core==2.*,>=2.0.0->ibm-cos-sdk->watson_machine_learning_client)\n",
      "Requirement already satisfied: jmespath<1.0.0,>=0.7.1 in /Users/jinsalex/anaconda3/lib/python3.6/site-packages (from ibm-cos-sdk-core==2.*,>=2.0.0->ibm-cos-sdk->watson_machine_learning_client)\n",
      "\u001b[33mYou are using pip version 9.0.1, however version 19.1.1 is available.\n",
      "You should consider upgrading via the 'pip install --upgrade pip' command.\u001b[0m\n"
     ]
    }
   ],
   "source": [
    "!pip install watson_machine_learning_client # Needed to work with the Watson Machine Learning Python client"
   ]
  },
  {
   "cell_type": "markdown",
   "metadata": {},
   "source": [
    "Paste your Watson Machine Learning credentials in the following cell.\n",
    "\n",
    "See: <a href=\"https://dataplatform.cloud.ibm.com/docs/content/analyze-data/ml-get-wml-credentials.html\" target=\"_blank\" rel=\"noopener noreferrer\">Looking up credentials</a>"
   ]
  },
  {
   "cell_type": "code",
   "execution_count": 21,
   "metadata": {},
   "outputs": [],
   "source": [
    "# Create a Watson Machine Learning client instance\n",
    "from watson_machine_learning_client import WatsonMachineLearningAPIClient\n",
    "wml_credentials = {\n",
    "    \"apikey\"    : \"value\",\n",
    "    \"instance_id\" : \"instance_id\",\n",
    "    \"url\"    : \"url\"\n",
    "}\n",
    "client = WatsonMachineLearningAPIClient( wml_credentials )"
   ]
  },
  {
   "cell_type": "code",
   "execution_count": 22,
   "metadata": {},
   "outputs": [],
   "source": [
    "# Format 1: In-mmory Pipeline object\n",
    "#\n",
    "# Parameters:\n",
    "# 1. The in-memory model object\n",
    "# 2. A name you choose for the stored model\n",
    "#\n",
    "model_details_inmem = client.repository.store_model( pipeline, \"scikit-learn model (in-memory object)\" )"
   ]
  },
  {
   "cell_type": "code",
   "execution_count": 23,
   "metadata": {},
   "outputs": [],
   "source": [
    "# Format 2: Pipeline saved in a pickle file\n",
    "#\n",
    "# Parameters:\n",
    "# 1. The directory containing the pickle file\n",
    "# 2. Metadata, including a name you choose for the stored model, as well as information about the framework\n",
    "#\n",
    "metadata = {\n",
    "    client.repository.ModelMetaNames.NAME: \"scikit-learn model (pickle file in a directory)\",\n",
    "    client.repository.ModelMetaNames.FRAMEWORK_NAME: \"scikit-learn\",\n",
    "    client.repository.ModelMetaNames.FRAMEWORK_VERSION: \"0.19\"\n",
    "}\n",
    "model_details_pkl = client.repository.store_model( model=\"model-dir\", meta_props=metadata )"
   ]
  },
  {
   "cell_type": "code",
   "execution_count": 24,
   "metadata": {},
   "outputs": [],
   "source": [
    "# Format 3: Pipeline saved in a pickle file in a tar.gz file\n",
    "#\n",
    "# Parameters:\n",
    "# 1. The tar.gz file containing the pickle file\n",
    "# 2. Metadata, including a name you choose for the stored model, as well as information about the framework\n",
    "#\n",
    "metadata = {\n",
    "    client.repository.ModelMetaNames.NAME: \"scikit-learn model (tar.gz)\",\n",
    "    client.repository.ModelMetaNames.FRAMEWORK_NAME: \"scikit-learn\",\n",
    "    client.repository.ModelMetaNames.FRAMEWORK_VERSION: \"0.19\"\n",
    "}\n",
    "model_details_targz = client.repository.store_model( model=\"tent-prediction-model.tar.gz\", meta_props=metadata )"
   ]
  },
  {
   "cell_type": "markdown",
   "metadata": {},
   "source": [
    "## <a id=\"step2\"></a> Step 2: Deploy the stored the model in your Watson Machine Learning service\n",
    "\n",
    "This section of the notebook demonstrates calling the <a href=\"https://wml-api-pyclient.mybluemix.net/index.html?highlight=deploy#client.Deployments.create\" target=\"_blank\" rel=\"noopener noreferrer\">deployments.create</a> function"
   ]
  },
  {
   "cell_type": "code",
   "execution_count": 25,
   "metadata": {},
   "outputs": [
    {
     "name": "stdout",
     "output_type": "stream",
     "text": [
      "\n",
      "\n",
      "#######################################################################################\n",
      "\n",
      "Synchronous deployment creation for uid: 'd136050c-fc7f-4b31-847c-d26b20f12693' started\n",
      "\n",
      "#######################################################################################\n",
      "\n",
      "\n",
      "INITIALIZING\n",
      "DEPLOY_SUCCESS\n",
      "\n",
      "\n",
      "------------------------------------------------------------------------------------------------\n",
      "Successfully finished deployment creation, deployment_uid='86335300-1e4a-4a24-b904-dedf90af0728'\n",
      "------------------------------------------------------------------------------------------------\n",
      "\n",
      "\n"
     ]
    }
   ],
   "source": [
    "# Deploy the stored model as an online web service deployment\n",
    "model_id_targz = model_details_targz[\"metadata\"][\"guid\"]\n",
    "deployment_details_targz = client.deployments.create( artifact_uid=model_id_targz, name=\"scikit-learn deployment (tar.gz)\" )"
   ]
  },
  {
   "cell_type": "code",
   "execution_count": 26,
   "metadata": {},
   "outputs": [
    {
     "data": {
      "text/plain": [
       "{'fields': ['prediction', 'probability'],\n",
       " 'values': [[False, [0.9168509324042778, 0.08314906759572217]],\n",
       "  [True, [0.09513035380503876, 0.9048696461949612]]]}"
      ]
     },
     "execution_count": 26,
     "metadata": {},
     "output_type": "execute_result"
    }
   ],
   "source": [
    "# Test the deployment\n",
    "model_endpoint_url_targz = client.deployments.get_scoring_url( deployment_details_targz )\n",
    "client.deployments.score( model_endpoint_url_targz, { \"values\" : [ [ 35, 0, 0, 3 ], [20, 1, 1, 6] ] } )"
   ]
  },
  {
   "cell_type": "code",
   "execution_count": null,
   "metadata": {},
   "outputs": [],
   "source": []
  },
  {
   "cell_type": "markdown",
   "metadata": {},
   "source": [
    "## Summary\n",
    "In this notebook, you imported a scikit-learn Pipeline into Watson Machine Learning using the Watson Machine Learning Python client."
   ]
  },
  {
   "cell_type": "markdown",
   "metadata": {},
   "source": [
    "### <a id=\"authors\"></a>Authors\n",
    "\n",
    "**Sarah Packowski** is a member of the IBM Watson Studio Content Design team in Canada."
   ]
  },
  {
   "cell_type": "markdown",
   "metadata": {},
   "source": [
    "\n",
    "<hr>\n",
    "Copyright &copy; IBM Corp. 2019. This notebook and its source code are released under the terms of the MIT License."
   ]
  },
  {
   "cell_type": "markdown",
   "metadata": {},
   "source": [
    "<div style=\"background:#F5F7FA; height:110px; padding: 2em; font-size:14px;\">\n",
    "<span style=\"font-size:18px;color:#152935;\">Love this notebook? </span>\n",
    "<span style=\"font-size:15px;color:#152935;float:right;margin-right:40px;\">Don't have an account yet?</span><br>\n",
    "<span style=\"color:#5A6872;\">Share it with your colleagues and help them discover the power of Watson Studio!</span>\n",
    "<span style=\"border: 1px solid #3d70b2;padding:8px;float:right;margin-right:40px; color:#3d70b2;\"><a href=\"https://ibm.co/wsnotebooks\" target=\"_blank\" style=\"color: #3d70b2;text-decoration: none;\">Sign Up</a></span><br>\n",
    "</div>"
   ]
  }
 ],
 "metadata": {
  "kernelspec": {
   "display_name": "Python 3",
   "language": "python",
   "name": "python3"
  },
  "language_info": {
   "codemirror_mode": {
    "name": "ipython",
    "version": 3
   },
   "file_extension": ".py",
   "mimetype": "text/x-python",
   "name": "python",
   "nbconvert_exporter": "python",
   "pygments_lexer": "ipython3",
   "version": "3.6.4"
  }
 },
 "nbformat": 4,
 "nbformat_minor": 1
}
